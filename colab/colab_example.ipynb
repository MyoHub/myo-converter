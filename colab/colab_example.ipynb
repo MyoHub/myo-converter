{
 "cells": [
  {
   "cell_type": "code",
   "execution_count": null,
   "metadata": {},
   "outputs": [],
   "source": [
    "%pip install -q condacolab\n",
    "import condacolab\n",
    "condacolab.install()"
   ]
  },
  {
   "cell_type": "markdown",
   "metadata": {},
   "source": [
    "Update mamba"
   ]
  },
  {
   "cell_type": "code",
   "execution_count": null,
   "metadata": {},
   "outputs": [],
   "source": [
    "! mamba update -qy --all"
   ]
  },
  {
   "cell_type": "markdown",
   "metadata": {
    "id": "ayjjsM1nsb6A"
   },
   "source": [
    "Connect to Google Drive."
   ]
  },
  {
   "cell_type": "code",
   "execution_count": null,
   "metadata": {
    "colab": {
     "base_uri": "https://localhost:8080/"
    },
    "executionInfo": {
     "elapsed": 21106,
     "status": "ok",
     "timestamp": 1691739423696,
     "user": {
      "displayName": "Huawei Wang",
      "userId": "17509873539222563826"
     },
     "user_tz": -120
    },
    "id": "U9l2CvjGrs0g",
    "outputId": "3836b5e6-a79b-402d-80aa-1d076fb3b310"
   },
   "outputs": [],
   "source": [
    "from google.colab import drive\n",
    "drive.mount('/content/drive/')"
   ]
  },
  {
   "cell_type": "markdown",
   "metadata": {
    "id": "gV2soff1ibFX"
   },
   "source": [
    "Clone MyoConverter from Git."
   ]
  },
  {
   "cell_type": "code",
   "execution_count": null,
   "metadata": {
    "colab": {
     "base_uri": "https://localhost:8080/"
    },
    "executionInfo": {
     "elapsed": 9718,
     "status": "ok",
     "timestamp": 1691739452253,
     "user": {
      "displayName": "Huawei Wang",
      "userId": "17509873539222563826"
     },
     "user_tz": -120
    },
    "id": "7--0cAt7ihg6",
    "outputId": "9e2d86a9-c872-4796-db0c-6196e228c64b"
   },
   "outputs": [],
   "source": [
    "! git clone https://github.com/MyoHub/myoconverter.git"
   ]
  },
  {
   "cell_type": "markdown",
   "metadata": {
    "id": "O1ImR3w1zw2c"
   },
   "source": [
    "Install requirements. This will take several minutes ..."
   ]
  },
  {
   "cell_type": "code",
   "execution_count": null,
   "metadata": {
    "colab": {
     "base_uri": "https://localhost:8080/"
    },
    "executionInfo": {
     "elapsed": 421,
     "status": "ok",
     "timestamp": 1691739583040,
     "user": {
      "displayName": "Huawei Wang",
      "userId": "17509873539222563826"
     },
     "user_tz": -120
    },
    "id": "h2hW-C63C3fi",
    "outputId": "9995ad2f-ff05-4ae9-9a61-4bf7063af5d6"
   },
   "outputs": [],
   "source": [
    "%%bash\n",
    "cd /content/myoconverter\n",
    "mamba env update -n base -f conda_env.yml"
   ]
  },
  {
   "cell_type": "markdown",
   "metadata": {
    "id": "7wKdZGmViZOk"
   },
   "source": [
    "Run example conversion."
   ]
  },
  {
   "cell_type": "code",
   "execution_count": null,
   "metadata": {
    "colab": {
     "base_uri": "https://localhost:8080/"
    },
    "executionInfo": {
     "elapsed": 37789,
     "status": "ok",
     "timestamp": 1691739822434,
     "user": {
      "displayName": "Huawei Wang",
      "userId": "17509873539222563826"
     },
     "user_tz": -120
    },
    "id": "7VzjAGD_qfar",
    "outputId": "04f660f5-a423-45ce-b9b0-429ae28d66d9"
   },
   "outputs": [],
   "source": [
    "%%bash\n",
    "export PYTHONPATH=/content/myoconverter\n",
    "cd /content/myoconverter\n",
    "mamba run -n base python examples/arm26.py"
   ]
  }
 ],
 "metadata": {
  "colab": {
   "authorship_tag": "ABX9TyNqy8tx6jRjMP1DITswx0QH",
   "provenance": [
    {
     "file_id": "1E11R31HDDwHrby9waTM3DID4bCkb7lhq",
     "timestamp": 1691740152704
    }
   ]
  },
  "kernelspec": {
   "display_name": "Python 3 (ipykernel)",
   "language": "python",
   "name": "python3"
  },
  "language_info": {
   "codemirror_mode": {
    "name": "ipython",
    "version": 3
   },
   "file_extension": ".py",
   "mimetype": "text/x-python",
   "name": "python",
   "nbconvert_exporter": "python",
   "pygments_lexer": "ipython3",
   "version": "3.10.10"
  }
 },
 "nbformat": 4,
 "nbformat_minor": 4
}
