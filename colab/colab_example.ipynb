{
  "cells": [
    {
      "cell_type": "code",
      "execution_count": 1,
      "metadata": {
        "colab": {
          "base_uri": "https://localhost:8080/"
        },
        "id": "nU8V-lIZW4gb",
        "outputId": "eadd8a34-af85-4613-e154-215f47b797d4"
      },
      "outputs": [
        {
          "name": "stdout",
          "output_type": "stream",
          "text": [
            "⏬ Downloading https://github.com/conda-forge/miniforge/releases/download/23.11.0-0/Mambaforge-23.11.0-0-Linux-x86_64.sh...\n",
            "📦 Installing...\n",
            "📌 Adjusting configuration...\n",
            "🩹 Patching environment...\n",
            "⏲ Done in 0:00:13\n",
            "🔁 Restarting kernel...\n"
          ]
        }
      ],
      "source": [
        "%pip install -q condacolab\n",
        "import condacolab\n",
        "condacolab.install()"
      ]
    },
    {
      "cell_type": "markdown",
      "metadata": {
        "id": "90ALcPSRW4gc"
      },
      "source": [
        "Update mamba"
      ]
    },
    {
      "cell_type": "code",
      "execution_count": 1,
      "metadata": {
        "colab": {
          "base_uri": "https://localhost:8080/"
        },
        "id": "zPy1UCCnW4gd",
        "outputId": "dea8847e-d9d8-4c44-fae9-3be1b4ca77cc"
      },
      "outputs": [
        {
          "name": "stdout",
          "output_type": "stream",
          "text": [
            "Preparing transaction: ...working... done\n",
            "Verifying transaction: ...working... done\n",
            "Executing transaction: ...working... done\n"
          ]
        }
      ],
      "source": [
        "! mamba update -qy --all"
      ]
    },
    {
      "cell_type": "markdown",
      "metadata": {
        "id": "ayjjsM1nsb6A"
      },
      "source": [
        "Connect to Google Drive."
      ]
    },
    {
      "cell_type": "code",
      "execution_count": 3,
      "metadata": {
        "colab": {
          "base_uri": "https://localhost:8080/"
        },
        "id": "U9l2CvjGrs0g",
        "outputId": "dfde668b-b016-420d-9cad-9880a5168d03"
      },
      "outputs": [
        {
          "name": "stdout",
          "output_type": "stream",
          "text": [
            "Mounted at /content/drive/\n"
          ]
        }
      ],
      "source": [
        "from google.colab import drive\n",
        "drive.mount('/content/drive/')"
      ]
    },
    {
      "cell_type": "markdown",
      "metadata": {
        "id": "gV2soff1ibFX"
      },
      "source": [
        "Clone MyoConverter from Git."
      ]
    },
    {
      "cell_type": "code",
      "execution_count": 7,
      "metadata": {
        "colab": {
          "base_uri": "https://localhost:8080/"
        },
        "id": "7--0cAt7ihg6",
        "outputId": "6167ac26-f987-428a-d05b-dc4243e9ec1e"
      },
      "outputs": [
        {
          "name": "stdout",
          "output_type": "stream",
          "text": [
            "Cloning into 'myoconverter'...\n",
            "remote: Enumerating objects: 5360, done.\u001b[K\n",
            "remote: Counting objects: 100% (1173/1173), done.\u001b[K\n",
            "remote: Compressing objects: 100% (881/881), done.\u001b[K\n",
            "remote: Total 5360 (delta 943), reused 449 (delta 279), pack-reused 4187\u001b[K\n",
            "Receiving objects: 100% (5360/5360), 105.52 MiB | 21.06 MiB/s, done.\n",
            "Resolving deltas: 100% (3613/3613), done.\n",
            "Updating files: 100% (2202/2202), done.\n"
          ]
        }
      ],
      "source": [
        "! rm -rf myoconverter; git clone -b feature/update-numpy https://github.com/MyoHub/myoconverter.git"
      ]
    },
    {
      "cell_type": "code",
      "execution_count": null,
      "metadata": {
        "id": "c8RCP8Ginbk7"
      },
      "outputs": [],
      "source": [
        "!unzip -o /content/Arm26.zip"
      ]
    },
    {
      "cell_type": "markdown",
      "metadata": {
        "id": "O1ImR3w1zw2c"
      },
      "source": [
        "Install requirements. This will take several minutes ..."
      ]
    },
    {
      "cell_type": "code",
      "execution_count": null,
      "metadata": {
        "id": "h2hW-C63C3fi"
      },
      "outputs": [],
      "source": [
        "%%bash\n",
        "cd /content/myoconverter\n",
        "mamba create --name myo-convert --file conda_env.yml"
      ]
    },
    {
      "cell_type": "markdown",
      "metadata": {
        "id": "7wKdZGmViZOk"
      },
      "source": [
        "Run example conversion."
      ]
    },
    {
      "cell_type": "code",
      "execution_count": null,
      "metadata": {
        "id": "7VzjAGD_qfar"
      },
      "outputs": [],
      "source": [
        "%%bash\n",
        "export PYTHONPATH=/content/myoconverter\n",
        "cd /content/myoconverter\n",
        "mamba run -n myo-convert python examples/arm26.py"
      ]
    },
    {
      "cell_type": "code",
      "execution_count": null,
      "metadata": {
        "id": "Vc9TwBEprJpj"
      },
      "outputs": [],
      "source": []
    },
    {
      "cell_type": "code",
      "execution_count": null,
      "metadata": {
        "id": "pJpWg3hkrPLj"
      },
      "outputs": [],
      "source": [
        "%%bash\n",
        "export PYTHONPATH=/content/myoconverter\n",
        "cd /content/myoconverter\n",
        "mamba run -n myo-convert python examples/cli.py --osim_file /content/Arm26/arm26.osim --geometry_folder /content/Arm26/Geometry --output_folder /content/Arm26/output"
      ]
    }
  ],
  "metadata": {
    "colab": {
      "provenance": []
    },
    "kernelspec": {
      "display_name": "Python 3 (ipykernel)",
      "language": "python",
      "name": "python3"
    },
    "language_info": {
      "codemirror_mode": {
        "name": "ipython",
        "version": 3
      },
      "file_extension": ".py",
      "mimetype": "text/x-python",
      "name": "python",
      "nbconvert_exporter": "python",
      "pygments_lexer": "ipython3",
      "version": "3.10.10"
    }
  },
  "nbformat": 4,
  "nbformat_minor": 0
}
