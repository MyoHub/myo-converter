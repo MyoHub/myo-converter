{
 "cells": [
  {
   "cell_type": "markdown",
   "metadata": {},
   "source": [
    "## Install condacolab module"
   ]
  },
  {
   "cell_type": "code",
   "execution_count": null,
   "metadata": {},
   "outputs": [],
   "source": [
    "%pip install -q condacolab\n",
    "import condacolab\n",
    "condacolab.install()"
   ]
  },
  {
   "cell_type": "markdown",
   "metadata": {},
   "source": [
    "## Update mamba"
   ]
  },
  {
   "cell_type": "code",
   "execution_count": null,
   "metadata": {},
   "outputs": [],
   "source": [
    "! mamba update -qy --all"
   ]
  },
  {
   "cell_type": "markdown",
   "metadata": {},
   "source": [
    "## Clone MyoConverter from GitHub"
   ]
  },
  {
   "cell_type": "code",
   "execution_count": null,
   "metadata": {},
   "outputs": [],
   "source": [
    "! git clone https://github.com/MyoHub/myoconverter.git"
   ]
  },
  {
   "cell_type": "markdown",
   "metadata": {},
   "source": [
    "## Update environment\n",
    "This will take several minutes ..."
   ]
  },
  {
   "cell_type": "code",
   "execution_count": null,
   "metadata": {},
   "outputs": [],
   "source": [
    "%%bash\n",
    "cd /content/myoconverter\n",
    "mamba env update -n base -f conda_env.yml"
   ]
  },
  {
   "cell_type": "markdown",
   "metadata": {},
   "source": [
    "## Uploading Files to Google Colab\n",
    "\n",
    "1. Click on the “Files” tab on the left-side menu.\n",
    "2. Click on the “Upload” button and select the file(s) you want to upload.\n",
    "\n",
    "Once your file(s) are uploaded, you can access them in the \"/content\" directory.\n",
    "\n",
    "Unzip the uploaded file(s):"
   ]
  },
  {
   "cell_type": "code",
   "execution_count": null,
   "metadata": {},
   "outputs": [],
   "source": [
    "! unzip /content/Arm26.zip"
   ]
  },
  {
   "cell_type": "markdown",
   "metadata": {},
   "source": [
    "Run the conversion:"
   ]
  },
  {
   "cell_type": "code",
   "execution_count": null,
   "metadata": {},
   "outputs": [],
   "source": [
    "%%bash\n",
    "export PYTHONPATH=/content/myoconverter\n",
    "cd /content/myoconverter\n",
    "mamba run -n base python examples/cli.py --osim_file /content/Arm26/arm26.osim --geometry_folder /content/Arm26/Geometry --output_folder /content/Arm26/mjc"
   ]
  },
  {
   "cell_type": "markdown",
   "metadata": {
    "id": "ayjjsM1nsb6A"
   },
   "source": [
    "## Connect to Google Drive"
   ]
  },
  {
   "cell_type": "code",
   "execution_count": null,
   "metadata": {
    "colab": {
     "base_uri": "https://localhost:8080/"
    },
    "executionInfo": {
     "elapsed": 21106,
     "status": "ok",
     "timestamp": 1691739423696,
     "user": {
      "displayName": "Huawei Wang",
      "userId": "17509873539222563826"
     },
     "user_tz": -120
    },
    "id": "U9l2CvjGrs0g",
    "outputId": "3836b5e6-a79b-402d-80aa-1d076fb3b310"
   },
   "outputs": [],
   "source": [
    "from google.colab import drive\n",
    "drive.mount('/content/drive/')"
   ]
  },
  {
   "cell_type": "markdown",
   "metadata": {},
   "source": [
    "Once your Google Drive is mounted, you can access your files and folders in the “/content/drive/MyDrive/” directory."
   ]
  },
  {
   "cell_type": "markdown",
   "metadata": {
    "id": "7wKdZGmViZOk"
   },
   "source": [
    "Run the conversion:"
   ]
  },
  {
   "cell_type": "code",
   "execution_count": null,
   "metadata": {
    "colab": {
     "base_uri": "https://localhost:8080/"
    },
    "executionInfo": {
     "elapsed": 37789,
     "status": "ok",
     "timestamp": 1691739822434,
     "user": {
      "displayName": "Huawei Wang",
      "userId": "17509873539222563826"
     },
     "user_tz": -120
    },
    "id": "7VzjAGD_qfar",
    "outputId": "04f660f5-a423-45ce-b9b0-429ae28d66d9"
   },
   "outputs": [],
   "source": [
    "%%bash\n",
    "export PYTHONPATH=/content/myoconverter\n",
    "cd /content/myoconverter\n",
    "mamba run -n base python examples/cli.py --osim_file /content/drive/MyDrive/Arm26/arm26.osim --geometry_folder /content/drive/MyDrive/Arm26/Geometry --output_folder /content/drive/MyDrive/Arm26/mjc"
   ]
  }
 ],
 "metadata": {
  "colab": {
   "authorship_tag": "ABX9TyNqy8tx6jRjMP1DITswx0QH",
   "provenance": [
    {
     "file_id": "1E11R31HDDwHrby9waTM3DID4bCkb7lhq",
     "timestamp": 1691740152704
    }
   ]
  },
  "kernelspec": {
   "display_name": "Python 3 (ipykernel)",
   "language": "python",
   "name": "python3"
  },
  "language_info": {
   "codemirror_mode": {
    "name": "ipython",
    "version": 3
   },
   "file_extension": ".py",
   "mimetype": "text/x-python",
   "name": "python",
   "nbconvert_exporter": "python",
   "pygments_lexer": "ipython3",
   "version": "3.10.10"
  }
 },
 "nbformat": 4,
 "nbformat_minor": 4
}
